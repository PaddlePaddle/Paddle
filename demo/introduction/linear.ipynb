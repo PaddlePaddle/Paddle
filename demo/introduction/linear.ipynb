{
 "cells": [
  {
   "cell_type": "markdown",
   "metadata": {
    "collapsed": true
   },
   "source": [
    "# Paddle Python Trainer API使用说明\n",
    "\n",
    "目前Paddle的PythonTrainerAPI处在一个测试阶段，很多设计都可以修改。包括接口。\n",
    "\n",
    "## 开发周期\n",
    "\n",
    "1. 使用Paddle的swig接口暴露出足够多支持Paddle训练的API，这个暴露级别最好在GradientMachine这个级别，可以方便用户自定义训练过程。\n",
    "2. 在swig API的基础上，确定Python的用户接口是什么样子\n",
    "3. 将swig API修改成C-API，进而可以多语言操控Paddle的训练\n",
    "\n",
    "## 预期达到的效果\n",
    "\n",
    "1. 用户可以完全使用Paddle Python的库完成训练。\n",
    "  1. 训练过程中的信息，可以以强类型传递给Python端。\n",
    "     * 正确率\n",
    "     * cost\n",
    "     * pass_id, batch_id\n",
    "  2. 训练过程中的测试频率等工作，完全交由用户进行\n",
    "     * 默认pass结束测试全部数据，但用户可以随意更改\n",
    "  3. 用户可以非常自由的选择更新参数\n",
    "     * 针对不同的数据，训练神经网络的不同部分。\n",
    "       * 一组数据训练网络的左半边，另一组训练右半边\n",
    "  4. 更方便的多目标学习\n",
    "\n",
    "## Python端用户接口的封装\n",
    "\n",
    "### 整体样例\n",
    "\n",
    "下面以一个简单的线性回归作为用户接口的使用样例。这个线性回归是以 x和y为变量，回归一个 y=w*x+b 的方程。其中w和b预设为2和0.3。神经网络中的w和b都是学习出来的。 "
   ]
  },
  {
   "cell_type": "markdown",
   "metadata": {},
   "source": [
    "首先，先import一些包。Python的训练接口复用了目前Paddle的很多逻辑。\n",
    "\n",
    "1. 网络配置复用的是trainer_config_helpers里面的配置\n",
    "2. 数据传输复用的是PyDataProvider2的格式\n",
    "\n",
    "`from py_paddle.trainer import *`这行import了Paddle Python端的训练函数。`import py_paddle.swig_paddle as api`这行import了底层swig暴露的接口。"
   ]
  },
  {
   "cell_type": "code",
   "execution_count": 1,
   "metadata": {
    "collapsed": true
   },
   "outputs": [],
   "source": [
    "from paddle.trainer_config_helpers import *\n",
    "from paddle.trainer.PyDataProvider2 import *\n",
    "from py_paddle.trainer import *\n",
    "import py_paddle.swig_paddle as api"
   ]
  },
  {
   "cell_type": "code",
   "execution_count": 2,
   "metadata": {
    "collapsed": true
   },
   "outputs": [],
   "source": [
    "@network(inputs={\n",
    "    'x': dense_vector(1), 'y': dense_vector(1)\n",
    "}, learning_rate=1e-3, batch_size=12)\n",
    "def linear_network(x, y):\n",
    "    y_predict = fc_layer(input=x, param_attr=ParamAttr(name='w'), size=1,\n",
    "                         act=LinearActivation(), bias_attr=ParamAttr(name='b'))\n",
    "    cost = regression_cost(input=y_predict, label=y)\n",
    "    return cost"
   ]
  },
  {
   "cell_type": "markdown",
   "metadata": {},
   "source": [
    "上面定义Paddle需要训练网络的网络结构。这个网络结构的定义使用了Python的函数。\n",
    "\n",
    "`@network`是一个decorator，它将下面的函数变成Paddle的神经网络描述(protobuf)。其参数包括:\n",
    "\n",
    "* inputs. 传输数据类型是一个字典，key是函数的参数名(这里就是x、y)，value是x，y对应的数据类型。这里数据类型都是dense的vector\n",
    "  * 可用的数据类型参考PyDataProvider2的@provider的input_types类型\n",
    "* 其余的参数是paddle的优化参数。参考`settings`"
   ]
  },
  {
   "cell_type": "code",
   "execution_count": 3,
   "metadata": {
    "collapsed": false,
    "scrolled": true
   },
   "outputs": [
    {
     "name": "stdout",
     "output_type": "stream",
     "text": [
      "Help on function settings in module paddle.trainer_config_helpers.optimizers:\n",
      "\n",
      "settings(*args, **kwargs)\n",
      "    Set the optimization method, learning rate, batch size, and other training\n",
      "    settings. The currently supported algorithms are SGD and Async-SGD.\n",
      "    \n",
      "    ..  warning::\n",
      "    \n",
      "        Note that the 'batch_size' in PaddlePaddle is not equal to global\n",
      "        training batch size. It represents the single training process's batch\n",
      "        size. If you use N processes to train one model, for example use three\n",
      "        GPU machines, the global batch size is N*'batch_size'.\n",
      "    \n",
      "    :param batch_size: batch size for one training process.\n",
      "    :type batch_size: int\n",
      "    :param learning_rate: learning rate for SGD\n",
      "    :type learning_rate: float\n",
      "    :param learning_method: The extension optimization algorithms of gradient\n",
      "                            descent, such as momentum, adagrad, rmsprop, etc.\n",
      "                            Note that it should be instance with base type\n",
      "                            BaseSGDOptimizer.\n",
      "    :type learning_method: BaseSGDOptimizer\n",
      "    :param regularization: The regularization method.\n",
      "    :type regularization: BaseRegularization\n",
      "    :param is_async: Is Async-SGD or not. Default value is False.\n",
      "    :type is_async: bool\n",
      "    :param model_average: Model Average Settings.\n",
      "    :type model_average: ModelAverage\n",
      "    :param gradient_clipping_threshold: gradient clipping threshold. If gradient\n",
      "                                        value larger than some value, will be\n",
      "                                        clipped.\n",
      "    :type gradient_clipping_threshold: float\n",
      "\n"
     ]
    }
   ],
   "source": [
    "help(settings)  # run this line to print document of settings method."
   ]
  },
  {
   "cell_type": "markdown",
   "metadata": {},
   "source": [
    "在linear_network里面定义的就是神经网络的计算图。返回值就是优化目标。\n",
    "\n",
    "使用decorator `@network`，我们将这个函数封装成了一个Python类。进而，我们声明一个网络描述实例`linear`。"
   ]
  },
  {
   "cell_type": "code",
   "execution_count": 4,
   "metadata": {
    "collapsed": true
   },
   "outputs": [],
   "source": [
    "linear = linear_network()"
   ]
  },
  {
   "cell_type": "markdown",
   "metadata": {},
   "source": [
    "这个描述是实例里面包含了一些Paddle的计算图信息和网络输入顺序等等。下面几个block可以手动运行，展开输出。"
   ]
  },
  {
   "cell_type": "code",
   "execution_count": 5,
   "metadata": {
    "collapsed": false
   },
   "outputs": [
    {
     "name": "stdout",
     "output_type": "stream",
     "text": [
      "Help on class NetworkConfigImpl in module py_paddle.trainer.network:\n",
      "\n",
      "class NetworkConfigImpl(NetworkConfig)\n",
      " |  Method resolution order:\n",
      " |      NetworkConfigImpl\n",
      " |      NetworkConfig\n",
      " |      __builtin__.object\n",
      " |  \n",
      " |  Methods defined here:\n",
      " |  \n",
      " |  __init__(self)\n",
      " |  \n",
      " |  input_order(self)\n",
      " |  \n",
      " |  input_types(self)\n",
      " |  \n",
      " |  network_graph(self)\n",
      " |  \n",
      " |  optimize_graph(self)\n",
      " |  \n",
      " |  ----------------------------------------------------------------------\n",
      " |  Methods inherited from NetworkConfig:\n",
      " |  \n",
      " |  provider(self, **kwargs)\n",
      " |  \n",
      " |  ----------------------------------------------------------------------\n",
      " |  Data descriptors inherited from NetworkConfig:\n",
      " |  \n",
      " |  __dict__\n",
      " |      dictionary for instance variables (if defined)\n",
      " |  \n",
      " |  __weakref__\n",
      " |      list of weak references to the object (if defined)\n",
      "\n"
     ]
    }
   ],
   "source": [
    "help(linear_network)  # run this line to print document of linear_network"
   ]
  },
  {
   "cell_type": "code",
   "execution_count": 6,
   "metadata": {
    "collapsed": false
   },
   "outputs": [
    {
     "name": "stdout",
     "output_type": "stream",
     "text": [
      "{'y': <paddle.trainer.PyDataProvider2.InputType object at 0x118a37908>, 'x': <paddle.trainer.PyDataProvider2.InputType object at 0x118a378c0>}\n"
     ]
    }
   ],
   "source": [
    "print linear.input_types()"
   ]
  },
  {
   "cell_type": "code",
   "execution_count": 7,
   "metadata": {
    "collapsed": false
   },
   "outputs": [
    {
     "name": "stdout",
     "output_type": "stream",
     "text": [
      "type: \"nn\"\n",
      "layers {\n",
      "  name: \"y\"\n",
      "  type: \"data\"\n",
      "  size: 1\n",
      "  active_type: \"\"\n",
      "}\n",
      "layers {\n",
      "  name: \"x\"\n",
      "  type: \"data\"\n",
      "  size: 1\n",
      "  active_type: \"\"\n",
      "}\n",
      "layers {\n",
      "  name: \"__fc_layer_0__\"\n",
      "  type: \"fc\"\n",
      "  size: 1\n",
      "  active_type: \"\"\n",
      "  inputs {\n",
      "    input_layer_name: \"x\"\n",
      "    input_parameter_name: \"w\"\n",
      "  }\n",
      "  bias_parameter_name: \"b\"\n",
      "}\n",
      "layers {\n",
      "  name: \"__regression_cost_0__\"\n",
      "  type: \"square_error\"\n",
      "  size: 1\n",
      "  active_type: \"\"\n",
      "  inputs {\n",
      "    input_layer_name: \"__fc_layer_0__\"\n",
      "  }\n",
      "  inputs {\n",
      "    input_layer_name: \"y\"\n",
      "  }\n",
      "  coeff: 1.0\n",
      "}\n",
      "parameters {\n",
      "  name: \"w\"\n",
      "  size: 1\n",
      "  initial_mean: 0.0\n",
      "  initial_std: 1.0\n",
      "  dims: 1\n",
      "  dims: 1\n",
      "  initial_strategy: 0\n",
      "  initial_smart: true\n",
      "}\n",
      "parameters {\n",
      "  name: \"b\"\n",
      "  size: 1\n",
      "  initial_mean: 0.0\n",
      "  initial_std: 1.0\n",
      "  dims: 1\n",
      "  dims: 1\n",
      "  initial_strategy: 0\n",
      "  initial_smart: true\n",
      "}\n",
      "input_layer_names: \"y\"\n",
      "input_layer_names: \"x\"\n",
      "output_layer_names: \"__regression_cost_0__\"\n",
      "sub_models {\n",
      "  name: \"root\"\n",
      "  layer_names: \"y\"\n",
      "  layer_names: \"x\"\n",
      "  layer_names: \"__fc_layer_0__\"\n",
      "  layer_names: \"__regression_cost_0__\"\n",
      "  input_layer_names: \"y\"\n",
      "  input_layer_names: \"x\"\n",
      "  output_layer_names: \"__regression_cost_0__\"\n",
      "  is_recurrent_layer_group: false\n",
      "}\n",
      "\n"
     ]
    }
   ],
   "source": [
    "print linear.network_graph()  # Paddle neural network protobuf definition"
   ]
  },
  {
   "cell_type": "code",
   "execution_count": 8,
   "metadata": {
    "collapsed": true
   },
   "outputs": [],
   "source": [
    "configs = {\n",
    "    'w': 2,\n",
    "    'b': 0.3\n",
    "}"
   ]
  },
  {
   "cell_type": "markdown",
   "metadata": {},
   "source": [
    "进而我们设置一下线性回归的参数。`y=w*x+b`， w和b设置为2和0.3。 这个dict被dataprovider使用。"
   ]
  },
  {
   "cell_type": "code",
   "execution_count": 9,
   "metadata": {
    "collapsed": true
   },
   "outputs": [],
   "source": [
    "import random\n",
    "\n",
    "@linear.provider()\n",
    "def process(*args, **kwargs):\n",
    "    for i in xrange(2000):\n",
    "        x = random.random()\n",
    "        yield {'x': [x], 'y': [configs['w'] * x + configs['b']]}\n"
   ]
  },
  {
   "cell_type": "markdown",
   "metadata": {},
   "source": [
    "下一步是声明数据读取器(DataProvider)。其本身也是一个函数, `process`。\n",
    "\n",
    "Paddle的PyDataProvider2的数据读取的主要想法是，用户只需要关注**从一个文件里**如何读取**一条数据**，然后按照一种数据格式yield出去。其他batch组合，数据shuffle等工作Paddle完成。\n",
    "\n",
    "声明这个DataProvider的过程，也是使用一个Decorator完成。注意这个decorator实际上是**linear实例的一个函数**。\n",
    "\n",
    "这个函数的参数和PyDataProvider2一样，第一个是settings，第二个是filename。不过这里procees函数实际上没有使用任何参数，故process中使用`*args, **kwargs`来接受任意参数。\n",
    "\n",
    "返回值是使用yield返回。这里必须使用**字典**。"
   ]
  },
  {
   "cell_type": "code",
   "execution_count": 10,
   "metadata": {
    "collapsed": false
   },
   "outputs": [
    {
     "name": "stdout",
     "output_type": "stream",
     "text": [
      "Help on class DataProvider in module paddle.trainer.PyDataProvider2:\n",
      "\n",
      "class DataProvider(__builtin__.object)\n",
      " |  Methods defined here:\n",
      " |  \n",
      " |  __init__(self, file_list, **kwargs)\n",
      " |  \n",
      " |  ----------------------------------------------------------------------\n",
      " |  Data descriptors defined here:\n",
      " |  \n",
      " |  __dict__\n",
      " |      dictionary for instance variables (if defined)\n",
      " |  \n",
      " |  __weakref__\n",
      " |      list of weak references to the object (if defined)\n",
      "\n"
     ]
    }
   ],
   "source": [
    "help(process)"
   ]
  },
  {
   "cell_type": "code",
   "execution_count": 11,
   "metadata": {
    "collapsed": true
   },
   "outputs": [],
   "source": [
    "runner = RunnerBuilder(network=linear).with_train_data(method=process).build()"
   ]
  },
  {
   "cell_type": "markdown",
   "metadata": {},
   "source": [
    "下一步是构造一个Runner，Runner是Python Trainer API中的最基础数据类型。它具有的操作是\n",
    "\n",
    "* 执行一个Pass。 run_one_pass。\n",
    "* 增加一个Pass中的执行步骤，例如打印输出等等。\n",
    "\n",
    "RunnerBulder是一个简单的Runner生成器。他负责将Paddle的训练流程插入到Runner的执行步骤中。\n",
    "\n",
    "这里network传入linear对象，而训练数据的读取函数是process。调用build生成runner\n",
    "\n",
    "关于Runner的具体说明参考其他文档，或者注释。"
   ]
  },
  {
   "cell_type": "code",
   "execution_count": 12,
   "metadata": {
    "collapsed": true
   },
   "outputs": [],
   "source": [
    "learning_result = {\n",
    "    'cost': [],\n",
    "    'w': [],\n",
    "    'b': []\n",
    "}"
   ]
  },
  {
   "cell_type": "markdown",
   "metadata": {},
   "source": [
    "我们声明一个learning_result字典，来保存训练过程中的数据，三个field分别保存每个pass后的误差，w值和b值。方便我们画图。"
   ]
  },
  {
   "cell_type": "code",
   "execution_count": 13,
   "metadata": {
    "collapsed": false,
    "scrolled": true
   },
   "outputs": [],
   "source": [
    "with runner:\n",
    "    while True:\n",
    "        ctx = ContextWrapper(runner.run_one_pass())\n",
    "        learning_result['cost'].append(ctx.cost())\n",
    "        params = ctx.gradient_machine().getParameters()\n",
    "        for param in params:\n",
    "            learning_result[param.getName()].append(param.getBuf(api.PARAMETER_VALUE)[0])\n",
    "        \n",
    "        if abs(ctx.cost() - 0.0) < 1e-10:\n",
    "            # end training.\n",
    "            break"
   ]
  },
  {
   "cell_type": "markdown",
   "metadata": {},
   "source": [
    "上面这个循环便是全部训练过程。\n",
    "\n",
    "第一行with runner，是指我要使用runner这个类来进行训练了。在使用某一个runner前，必须使用with，来初始化一些数据。同时目前Paddle只支持一个进程使用一个runner(Paddle的全局变量问题)。\n",
    "\n",
    "每一个run_one_pass()会返回一个当前的context，使用context wrapper可以更好(类型安全)，更快(TODO 可以使用Cython优化)的访问Context。"
   ]
  },
  {
   "cell_type": "code",
   "execution_count": 14,
   "metadata": {
    "collapsed": false,
    "scrolled": true
   },
   "outputs": [
    {
     "name": "stdout",
     "output_type": "stream",
     "text": [
      "Help on ContextWrapper in module py_paddle.trainer.base_items object:\n",
      "\n",
      "class ContextWrapper(__builtin__.object)\n",
      " |  Strong typed wrapper to read/write context value.\n",
      " |  \n",
      " |  @TODO(yuyang18): Use Cython to implement this class, make it directly access\n",
      " |                   a C struct.\n",
      " |  \n",
      " |  Methods defined here:\n",
      " |  \n",
      " |  __init__(self, context)\n",
      " |  \n",
      " |  batch_id(self, field_name='current_batch_id')\n",
      " |  \n",
      " |  batch_size(self, field_name='current_batch_size')\n",
      " |      :param field_name:\n",
      " |      :return:\n",
      " |      :rtype: int\n",
      " |  \n",
      " |  cost(self, field_name='current_cost')\n",
      " |      :param field_name:\n",
      " |      :return:\n",
      " |      :rtype: float\n",
      " |  \n",
      " |  get_field(self, field_name)\n",
      " |  \n",
      " |  get_field_with_type(self, field_name, tp)\n",
      " |  \n",
      " |  gradient_machine(self, field_name='gradient_machine')\n",
      " |      Get Gradient Machine\n",
      " |      :param field_name:\n",
      " |      :return:\n",
      " |      :rtype: api.GradientMachine\n",
      " |  \n",
      " |  in_args(self, field_name='in_args')\n",
      " |      :param field_name:\n",
      " |      :return:\n",
      " |      :rtype: api.Arguments\n",
      " |  \n",
      " |  increase_batch_id(self, field_name='current_batch_id')\n",
      " |  \n",
      " |  increase_pass_id(self, field_name='current_pass_id')\n",
      " |  \n",
      " |  pass_id(self, field_name='current_pass_id')\n",
      " |  \n",
      " |  reset_batch_id(self, field_name='current_batch_id')\n",
      " |  \n",
      " |  reset_pass_id(self, field_name='current_pass_id')\n",
      " |  \n",
      " |  set_batch_size(self, batch_size, field_name='current_batch_size')\n",
      " |  \n",
      " |  set_cost(self, cost, field_name='current_cost')\n",
      " |  \n",
      " |  set_field_with_type(self, field_name, value, tp, must_not_set=True)\n",
      " |  \n",
      " |  set_gradient_machine(self, machine, field_name='gradient_machine')\n",
      " |  \n",
      " |  set_in_args(self, in_args, field_name='in_args')\n",
      " |  \n",
      " |  set_updater(self, updater, field_name='updater')\n",
      " |  \n",
      " |  set_updater_callback(self, updater_callback, field_name='updater_callback')\n",
      " |  \n",
      " |  updater(self, field_name='updater')\n",
      " |      Get Parameter Updater\n",
      " |      :param field_name:\n",
      " |      :return:\n",
      " |      :rtype: api.ParameterUpdater\n",
      " |  \n",
      " |  updater_callback(self, field_name='updater_callback')\n",
      " |      :param field_name:\n",
      " |      :return:\n",
      " |      :rtype: callable\n",
      " |  \n",
      " |  ----------------------------------------------------------------------\n",
      " |  Data descriptors defined here:\n",
      " |  \n",
      " |  __dict__\n",
      " |      dictionary for instance variables (if defined)\n",
      " |  \n",
      " |  __weakref__\n",
      " |      list of weak references to the object (if defined)\n",
      "\n"
     ]
    }
   ],
   "source": [
    "help(ctx)"
   ]
  },
  {
   "cell_type": "markdown",
   "metadata": {},
   "source": [
    "这个训练过程中，我们不指定训练次数，而是指定当误差小于1e-10的时候，我们就退出。\n",
    "\n",
    "同时，记录下每一个pass的w和b值。\n",
    "\n",
    "之后我们便可以使用matplotlib画图。画图的方法不在赘述。是标准的matplotlib使用"
   ]
  },
  {
   "cell_type": "code",
   "execution_count": 15,
   "metadata": {
    "collapsed": false
   },
   "outputs": [
    {
     "data": {
      "image/png": "[encoded data removed]",
      "text/plain": [
       "<matplotlib.figure.Figure at 0x118a3a510>"
      ]
     },
     "metadata": {},
     "output_type": "display_data"
    }
   ],
   "source": [
    "% matplotlib inline\n",
    "import matplotlib.pyplot as plt\n",
    "\n",
    "plt.plot(\"cost\", data=learning_result)\n",
    "plt.show()\n"
   ]
  },
  {
   "cell_type": "code",
   "execution_count": 16,
   "metadata": {
    "collapsed": false
   },
   "outputs": [
    {
     "data": {
      "image/png": "[encoded data removed]",
      "text/plain": [
       "<matplotlib.figure.Figure at 0x11b74e050>"
      ]
     },
     "metadata": {},
     "output_type": "display_data"
    }
   ],
   "source": [
    "plt.plot(\"w\", data=learning_result)\n",
    "plt.show()\n"
   ]
  },
  {
   "cell_type": "code",
   "execution_count": 17,
   "metadata": {
    "collapsed": false,
    "scrolled": true
   },
   "outputs": [
    {
     "data": {
      "image/png": "[encoded data removed]",
      "text/plain": [
       "<matplotlib.figure.Figure at 0x11b8e8d50>"
      ]
     },
     "metadata": {},
     "output_type": "display_data"
    }
   ],
   "source": [
    "plt.plot(\"b\", data=learning_result)\n",
    "plt.show()\n"
   ]
  },
  {
   "cell_type": "markdown",
   "metadata": {},
   "source": [
    "至此，一个简单的Python Trainer API使用说明写完了。"
   ]
  }
 ],
 "metadata": {
  "kernelspec": {
   "display_name": "Python 2",
   "language": "python",
   "name": "python2"
  },
  "language_info": {
   "codemirror_mode": {
    "name": "ipython",
    "version": 2
   },
   "file_extension": ".py",
   "mimetype": "text/x-python",
   "name": "python",
   "nbconvert_exporter": "python",
   "pygments_lexer": "ipython2",
   "version": "2.7.12"
  }
 },
 "nbformat": 4,
 "nbformat_minor": 0
}
