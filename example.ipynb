{
 "cells": [
  {
   "cell_type": "code",
   "execution_count": 9,
   "id": "ae40d439-6432-4f37-883d-a3ebd90d6534",
   "metadata": {
    "execution": {
     "iopub.execute_input": "2022-09-25T07:46:13.296690Z",
     "iopub.status.busy": "2022-09-25T07:46:13.296095Z",
     "iopub.status.idle": "2022-09-25T07:46:15.675837Z",
     "shell.execute_reply": "2022-09-25T07:46:15.674059Z",
     "shell.execute_reply.started": "2022-09-25T07:46:13.296654Z"
    },
    "scrolled": true
   },
   "outputs": [
    {
     "name": "stdout",
     "output_type": "stream",
     "text": [
      "Looking in indexes: https://pypi.tuna.tsinghua.edu.cn/simple\n",
      "Requirement already satisfied: wget in /opt/conda/envs/python35-paddle120-env/lib/python3.7/site-packages (3.2)\n",
      "\n",
      "\u001b[1m[\u001b[0m\u001b[34;49mnotice\u001b[0m\u001b[1;39;49m]\u001b[0m\u001b[39;49m A new release of pip available: \u001b[0m\u001b[31;49m22.1.2\u001b[0m\u001b[39;49m -> \u001b[0m\u001b[32;49m22.2.2\u001b[0m\n",
      "\u001b[1m[\u001b[0m\u001b[34;49mnotice\u001b[0m\u001b[1;39;49m]\u001b[0m\u001b[39;49m To update, run: \u001b[0m\u001b[32;49mpip install --upgrade pip\u001b[0m\n"
     ]
    }
   ],
   "source": [
    "!pip install wget"
   ]
  },
  {
   "cell_type": "code",
   "execution_count": 10,
   "id": "9447e587-b992-4053-a0d5-a5713fd23819",
   "metadata": {
    "execution": {
     "iopub.execute_input": "2022-09-25T07:46:15.679540Z",
     "iopub.status.busy": "2022-09-25T07:46:15.678561Z",
     "iopub.status.idle": "2022-09-25T07:46:18.132441Z",
     "shell.execute_reply": "2022-09-25T07:46:18.131271Z",
     "shell.execute_reply.started": "2022-09-25T07:46:15.679488Z"
    },
    "scrolled": true
   },
   "outputs": [
    {
     "name": "stdout",
     "output_type": "stream",
     "text": [
      "Looking in indexes: https://pypi.tuna.tsinghua.edu.cn/simple\n",
      "Requirement already satisfied: gensim in /opt/conda/envs/python35-paddle120-env/lib/python3.7/site-packages (4.2.0)\n",
      "Requirement already satisfied: smart-open>=1.8.1 in /opt/conda/envs/python35-paddle120-env/lib/python3.7/site-packages (from gensim) (6.2.0)\n",
      "Requirement already satisfied: scipy>=0.18.1 in /opt/conda/envs/python35-paddle120-env/lib/python3.7/site-packages (from gensim) (1.3.0)\n",
      "Requirement already satisfied: numpy>=1.17.0 in /opt/conda/envs/python35-paddle120-env/lib/python3.7/site-packages (from gensim) (1.19.5)\n",
      "\n",
      "\u001b[1m[\u001b[0m\u001b[34;49mnotice\u001b[0m\u001b[1;39;49m]\u001b[0m\u001b[39;49m A new release of pip available: \u001b[0m\u001b[31;49m22.1.2\u001b[0m\u001b[39;49m -> \u001b[0m\u001b[32;49m22.2.2\u001b[0m\n",
      "\u001b[1m[\u001b[0m\u001b[34;49mnotice\u001b[0m\u001b[1;39;49m]\u001b[0m\u001b[39;49m To update, run: \u001b[0m\u001b[32;49mpip install --upgrade pip\u001b[0m\n"
     ]
    }
   ],
   "source": [
    "!pip install gensim"
   ]
  },
  {
   "cell_type": "code",
   "execution_count": 11,
   "id": "fa3a7ac0-29fc-4086-9b2b-7f3df366f917",
   "metadata": {
    "execution": {
     "iopub.execute_input": "2022-09-25T07:46:18.134362Z",
     "iopub.status.busy": "2022-09-25T07:46:18.134003Z",
     "iopub.status.idle": "2022-09-25T07:46:18.140334Z",
     "shell.execute_reply": "2022-09-25T07:46:18.139440Z",
     "shell.execute_reply.started": "2022-09-25T07:46:18.134333Z"
    },
    "scrolled": true,
    "tags": []
   },
   "outputs": [],
   "source": [
    "from paddle.io import IterableDataset\n",
    "from paddledata.datapipes.iter import *\n",
    "from paddledata.extension import *\n",
    "import os\n",
    "import pandas as pd\n",
    "import numpy as np\n",
    "import jieba\n",
    "from gensim.models import word2vec"
   ]
  },
  {
   "cell_type": "code",
   "execution_count": 12,
   "id": "7fee1970-d01b-46ae-8716-4fd77a48e92c",
   "metadata": {
    "execution": {
     "iopub.execute_input": "2022-09-25T07:46:18.143307Z",
     "iopub.status.busy": "2022-09-25T07:46:18.142787Z",
     "iopub.status.idle": "2022-09-25T07:46:18.184317Z",
     "shell.execute_reply": "2022-09-25T07:46:18.183363Z",
     "shell.execute_reply.started": "2022-09-25T07:46:18.143269Z"
    },
    "scrolled": true
   },
   "outputs": [
    {
     "name": "stdout",
     "output_type": "stream",
     "text": [
      "[0.41573614 0.1466568  0.872243  ] [0]\n",
      "[0.2451987  0.46963426 0.13936372] [0]\n",
      "[0.49954247 0.16031009 0.14504197] [1]\n",
      "[0.51358306 0.6444739  0.687803  ] [0]\n",
      "[0.75018185 0.6686349  0.29817727] [1]\n",
      "[0.64661837 0.91101116 0.16727293] [1]\n",
      "[0.22724913 0.44764566 0.897494  ] [0]\n",
      "[0.7714584  0.9453056  0.91553456] [0]\n",
      "[0.29458395 0.0442587  0.17968315] [0]\n",
      "[0.10128532 0.41836375 0.4047683 ] [1]\n",
      "[0.58012176 0.09377854 0.48462287] [1]\n",
      "[0.67806876 0.28449148 0.9118643 ] [1]\n",
      "[0.19493045 0.32390922 0.9695272 ] [0]\n",
      "[0.8050516  0.00169936 0.23770203] [0]\n",
      "[0.35482702 0.4070339  0.97700566] [0]\n",
      "[0.17162652 0.08129493 0.74695426] [0]\n",
      "[0.72566366 0.4953351  0.54041314] [0]\n",
      "[0.3508272  0.45217577 0.18412499] [1]\n",
      "[0.7463199  0.7102503  0.20235571] [1]\n",
      "[0.8987816  0.65358114 0.4779008 ] [0]\n",
      "[0.0301952  0.5476607  0.27981567] [1]\n",
      "[0.15650262 0.5045874  0.3188929 ] [0]\n",
      "[0.90891504 0.71147734 0.8910655 ] [0]\n",
      "[0.48175022 0.85393786 0.8183875 ] [0]\n",
      "[0.19307536 0.40724182 0.81041837] [0]\n",
      "[0.32431147 0.20524348 0.40228832] [1]\n",
      "[0.15365532 0.55807585 0.20596208] [1]\n",
      "[0.85053754 0.8091286  0.6012794 ] [0]\n",
      "[0.15558179 0.01129697 0.4583066 ] [0]\n",
      "[0.8930253  0.24315952 0.9041894 ] [0]\n",
      "[0.9829929  0.50813764 0.6461572 ] [1]\n",
      "[0.77803534 0.06613758 0.8922435 ] [1]\n",
      "[0.3061918  0.17311183 0.865563  ] [1]\n",
      "[0.7407136 0.5630349 0.2474508] [1]\n",
      "[0.5242282  0.82739884 0.48475143] [0]\n",
      "[0.0013541  0.6335877  0.77108634] [1]\n",
      "[0.615255  0.7880263 0.8853996] [0]\n",
      "[0.19573733 0.94406784 0.41206992] [1]\n",
      "[0.88432044 0.7766712  0.8143967 ] [0]\n",
      "[0.3386658  0.07251277 0.5410448 ] [0]\n",
      "[0.98181903 0.806148   0.6458856 ] [1]\n",
      "[0.44269738 0.49313894 0.8083199 ] [1]\n",
      "[0.07835148 0.18533893 0.7411851 ] [0]\n",
      "[0.9368267  0.6837217  0.50447994] [1]\n",
      "[0.0220537  0.9958083  0.38248974] [0]\n",
      "[0.9239603  0.38324386 0.22979501] [1]\n",
      "[0.7260062  0.71877986 0.787946  ] [0]\n",
      "[0.25945973 0.0176584  0.37538055] [0]\n",
      "[0.72466403 0.3188867  0.7400225 ] [1]\n",
      "[0.5406441  0.76942635 0.805318  ] [1]\n",
      "[0.76252466 0.7032754  0.07739997] [0]\n",
      "[0.46694103 0.17583498 0.1155272 ] [0]\n",
      "[0.74849844 0.74392396 0.16910051] [1]\n",
      "[0.7057412  0.70362014 0.29300573] [0]\n",
      "[0.7243819  0.73552024 0.6867197 ] [0]\n",
      "[0.02786168 0.468683   0.89937603] [1]\n",
      "[0.8249716  0.14955202 0.17425676] [1]\n",
      "[0.05032624 0.3750935  0.8650547 ] [0]\n",
      "[0.9816343  0.79187065 0.508579  ] [1]\n",
      "[0.3040572  0.93666524 0.5937929 ] [1]\n",
      "[0.23686321 0.20855758 0.5509505 ] [0]\n",
      "[0.35268524 0.8286008  0.50534976] [1]\n",
      "[0.00893264 0.27691522 0.2453807 ] [0]\n",
      "[0.3447692  0.04813689 0.72908264] [1]\n"
     ]
    }
   ],
   "source": [
    "class RandomIterableDataset(IterableDataset):\r\n",
    "    def __init__(self, x, y):\r\n",
    "        self.x = x\r\n",
    "        self.y = y\r\n",
    "\r\n",
    "    def __iter__(self):\r\n",
    "        for i in range(len(self.x)):\r\n",
    "            data = self.x[i]\r\n",
    "            label = self.y[i]\r\n",
    "            yield data, label\r\n",
    "\r\n",
    "x = np.random.random([64, 3]).astype('float32')\r\n",
    "y = np.random.randint(0, 2, (64, 1)).astype('int64')\r\n",
    "iterable_dataset = RandomIterableDataset(x, y)\r\n",
    "\r\n",
    "for data, label in iterable_dataset:\r\n",
    "    print(data, label)"
   ]
  },
  {
   "cell_type": "code",
   "execution_count": 13,
   "id": "032e621e-d13a-4cdd-b623-942f5639c588",
   "metadata": {
    "execution": {
     "iopub.execute_input": "2022-09-25T07:46:18.186298Z",
     "iopub.status.busy": "2022-09-25T07:46:18.185643Z",
     "iopub.status.idle": "2022-09-25T07:46:18.202975Z",
     "shell.execute_reply": "2022-09-25T07:46:18.201651Z",
     "shell.execute_reply.started": "2022-09-25T07:46:18.186254Z"
    },
    "scrolled": true
   },
   "outputs": [
    {
     "name": "stdout",
     "output_type": "stream",
     "text": [
      "(array([1.3508272, 1.4521757, 1.184125 ], dtype=float32), array([1.9368267, 1.6837218, 1.5044799], dtype=float32), array([1.6466184, 1.9110112, 1.1672729], dtype=float32), array([1.7780354, 1.0661376, 1.8922435], dtype=float32), array([1.7501819, 1.6686349, 1.2981772], dtype=float32)) (array([1]), array([1]), array([1]), array([1]), array([1]))\n",
      "(array([1.1012853, 1.4183638, 1.4047682], dtype=float32), array([1.4426974, 1.4931389, 1.8083199], dtype=float32), array([1.5801218, 1.0937785, 1.4846228], dtype=float32), array([1.4995425, 1.16031  , 1.145042 ], dtype=float32), array([1.0278617, 1.468683 , 1.899376 ], dtype=float32)) (array([1]), array([1]), array([1]), array([1]), array([1]))\n",
      "(array([1.9239603, 1.3832438, 1.229795 ], dtype=float32), array([1.1536553, 1.5580759, 1.2059621], dtype=float32), array([1.724664 , 1.3188868, 1.7400224], dtype=float32), array([1.1957374, 1.9440678, 1.4120699], dtype=float32), array([1.5406442, 1.7694263, 1.805318 ], dtype=float32)) (array([1]), array([1]), array([1]), array([1]), array([1]))\n",
      "(array([1.3243115, 1.2052435, 1.4022883], dtype=float32), array([1.7484984, 1.7439239, 1.1691005], dtype=float32), array([1.0301952, 1.5476607, 1.2798157], dtype=float32), array([1.3040572, 1.9366653, 1.5937929], dtype=float32), array([1.6780688, 1.2844915, 1.9118643], dtype=float32)) (array([1]), array([1]), array([1]), array([1]), array([1]))\n",
      "(array([1.3061918, 1.1731118, 1.8655629], dtype=float32), array([1.3447692, 1.048137 , 1.7290826], dtype=float32), array([1.7463199, 1.7102504, 1.2023557], dtype=float32), array([1.8249717, 1.149552 , 1.1742568], dtype=float32), array([1.3526852, 1.8286009, 1.5053498], dtype=float32)) (array([1]), array([1]), array([1]), array([1]), array([1]))\n",
      "(array([1.9816344, 1.7918706, 1.508579 ], dtype=float32), array([1.981819 , 1.806148 , 1.6458856], dtype=float32), array([1.7407136, 1.5630349, 1.2474508], dtype=float32), array([1.9829929, 1.5081377, 1.6461573], dtype=float32), array([1.0013541, 1.6335877, 1.7710863], dtype=float32)) (array([1]), array([1]), array([1]), array([1]), array([1]))\n"
     ]
    }
   ],
   "source": [
    "Pipelines = list()\r\n",
    "Pipelines.append(IterableMapper(map_func=lambda x: x + 1))\r\n",
    "Pipelines.append(IterableFilter(predicate=lambda x: x[1] > 0.5))\r\n",
    "Pipelines.append(IterableShuffler())\r\n",
    "Pipelines.append(IterableBatcher(batch_size=5, drop_last=False))\r\n",
    "processing = IterableDataPipes(pipelines=Pipelines)\r\n",
    "\r\n",
    "result = processing(iterable_dataset)\r\n",
    "for data, label in result:\r\n",
    "    print(data, label)"
   ]
  },
  {
   "cell_type": "code",
   "execution_count": 14,
   "id": "5ecdb983-e141-468e-8574-0a0df79be14a",
   "metadata": {
    "execution": {
     "iopub.execute_input": "2022-09-25T07:46:18.204914Z",
     "iopub.status.busy": "2022-09-25T07:46:18.204567Z",
     "iopub.status.idle": "2022-09-25T07:46:18.211606Z",
     "shell.execute_reply": "2022-09-25T07:46:18.210625Z",
     "shell.execute_reply.started": "2022-09-25T07:46:18.204887Z"
    },
    "scrolled": true,
    "tags": []
   },
   "outputs": [
    {
     "name": "stdout",
     "output_type": "stream",
     "text": [
      "https://bj.bcebos.com/v1/ai-studio-online/7f619988564f4a7287440a7789bfa8e7e88bcf33f21b4bea862dc73491258ff9?responseContentDisposition=attachment%3B%20filename%3Dtest.zip&authorization=bce-auth-v1%2F5cfe9a5e1454405eb2a975c43eace6ec%2F2022-09-25T07%3A01%3A41Z%2F-1%2F%2F5ad9522f9d84765641f4c316cce0474bcd76c92991407442f7bd657f9cd59a9e\n"
     ]
    }
   ],
   "source": [
    "class MyDataset(IterableDataset):\n",
    "    def __init__(self, paths):\n",
    "        self.paths = paths\n",
    "    \n",
    "    def __iter__(self):\n",
    "        for path in self.paths:\n",
    "            yield path\n",
    "\n",
    "paths = ['https://bj.bcebos.com/v1/ai-studio-online/7f619988564f4a7287440a7789bfa8e7e88bcf33f21b4bea862dc73491258ff9?responseContentDisposition=attachment%3B%20filename%3Dtest.zip&authorization=bce-auth-v1%2F5cfe9a5e1454405eb2a975c43eace6ec%2F2022-09-25T07%3A01%3A41Z%2F-1%2F%2F5ad9522f9d84765641f4c316cce0474bcd76c92991407442f7bd657f9cd59a9e']\n",
    "example = MyDataset(paths)\n",
    "for i in example:\n",
    "    print(i)"
   ]
  },
  {
   "cell_type": "code",
   "execution_count": 15,
   "id": "c61e3652-afec-449b-a6b7-1fd04b54fbf8",
   "metadata": {
    "execution": {
     "iopub.execute_input": "2022-09-25T07:46:18.213244Z",
     "iopub.status.busy": "2022-09-25T07:46:18.212871Z",
     "iopub.status.idle": "2022-09-25T07:46:18.416662Z",
     "shell.execute_reply": "2022-09-25T07:46:18.415689Z",
     "shell.execute_reply.started": "2022-09-25T07:46:18.213219Z"
    },
    "scrolled": true
   },
   "outputs": [
    {
     "name": "stdout",
     "output_type": "stream",
     "text": [
      "/home/aistudio/work/data/example/decompression/Sina_News.txt\n",
      "/home/aistudio/work/data/example/decompression/California_Gull.jpg\n",
      "/home/aistudio/work/data/example/decompression/Herring_Gull.jpg\n",
      "/home/aistudio/work/data/example/decompression/Groove_Billed_Ani.jpg\n"
     ]
    }
   ],
   "source": [
    "Pipelines = list()\n",
    "# 远程文件操作\n",
    "Pipelines.append(Downloader(save_path='data/example'))\n",
    "# 文件解压\n",
    "Pipelines.append(Extractor(save_dir='./data/example/decompression'))\n",
    "processing = DataPipes(pipelines=Pipelines)\n",
    "final_dataset = processing(example)\n",
    "for temp in final_dataset:\n",
    "    print(temp)"
   ]
  },
  {
   "cell_type": "code",
   "execution_count": 16,
   "id": "a97e0d66-1c52-492f-be2d-a3af28f75083",
   "metadata": {
    "execution": {
     "iopub.execute_input": "2022-09-25T07:46:18.418532Z",
     "iopub.status.busy": "2022-09-25T07:46:18.417927Z",
     "iopub.status.idle": "2022-09-25T07:46:18.425580Z",
     "shell.execute_reply": "2022-09-25T07:46:18.424764Z",
     "shell.execute_reply.started": "2022-09-25T07:46:18.418503Z"
    },
    "scrolled": true
   },
   "outputs": [
    {
     "name": "stdout",
     "output_type": "stream",
     "text": [
      "work/data/example/decompression/Sina_News.txt\n"
     ]
    }
   ],
   "source": [
    "class MyDataset(IterableDataset):\n",
    "    def __init__(self, paths):\n",
    "        self.paths = paths\n",
    "    \n",
    "    def __iter__(self):\n",
    "        for path in self.paths:\n",
    "            yield path\n",
    "\n",
    "paths = ['work/data/example/decompression/Sina_News.txt']\n",
    "example = MyDataset(paths)\n",
    "for i in example:\n",
    "    print(i)"
   ]
  },
  {
   "cell_type": "code",
   "execution_count": 17,
   "id": "27227334-4211-4037-b2d5-679881aa9c4c",
   "metadata": {
    "execution": {
     "iopub.execute_input": "2022-09-25T07:46:18.427225Z",
     "iopub.status.busy": "2022-09-25T07:46:18.426742Z",
     "iopub.status.idle": "2022-09-25T07:46:18.434322Z",
     "shell.execute_reply": "2022-09-25T07:46:18.433292Z",
     "shell.execute_reply.started": "2022-09-25T07:46:18.427197Z"
    },
    "scrolled": true
   },
   "outputs": [],
   "source": [
    "final = iter(final_dataset)"
   ]
  },
  {
   "cell_type": "code",
   "execution_count": 18,
   "id": "72959266-42ba-40a0-84d3-1f3a492d485c",
   "metadata": {
    "execution": {
     "iopub.execute_input": "2022-09-25T07:46:18.438723Z",
     "iopub.status.busy": "2022-09-25T07:46:18.438236Z",
     "iopub.status.idle": "2022-09-25T07:46:18.443516Z",
     "shell.execute_reply": "2022-09-25T07:46:18.442676Z",
     "shell.execute_reply.started": "2022-09-25T07:46:18.438696Z"
    },
    "scrolled": true,
    "tags": []
   },
   "outputs": [
    {
     "name": "stdout",
     "output_type": "stream",
     "text": [
      "/home/aistudio/work/data/example/decompression/Sina_News.txt\n"
     ]
    }
   ],
   "source": [
    "print(next(final))"
   ]
  }
 ],
 "metadata": {
  "kernelspec": {
   "display_name": "Python 3",
   "language": "python",
   "name": "py35-paddle1.2.0"
  },
  "language_info": {
   "codemirror_mode": {
    "name": "ipython",
    "version": 3
   },
   "file_extension": ".py",
   "mimetype": "text/x-python",
   "name": "python",
   "nbconvert_exporter": "python",
   "pygments_lexer": "ipython3",
   "version": "3.7.4"
  }
 },
 "nbformat": 4,
 "nbformat_minor": 5
}
